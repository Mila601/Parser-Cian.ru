{
 "cells": [
  {
   "cell_type": "markdown",
   "metadata": {},
   "source": [
    "# CIAN.ru"
   ]
  },
  {
   "cell_type": "code",
   "execution_count": 17,
   "metadata": {
    "collapsed": true
   },
   "outputs": [],
   "source": [
    "import requests\n",
    "import re\n",
    "from bs4 import BeautifulSoup\n",
    "import pandas as pd\n",
    "import time\n",
    "import numpy as np"
   ]
  },
  {
   "cell_type": "code",
   "execution_count": 18,
   "metadata": {
    "collapsed": true
   },
   "outputs": [],
   "source": [
    "def html_stripper(text):\n",
    "    return re.sub('<[^<]+?>', '', str(text))"
   ]
  },
  {
   "cell_type": "markdown",
   "metadata": {},
   "source": [
    "# Цена"
   ]
  },
  {
   "cell_type": "code",
   "execution_count": 19,
   "metadata": {
    "collapsed": true
   },
   "outputs": [],
   "source": [
    "def getPrice(flat_page):\n",
    "    price = flat_page.find('div', attrs={'class':'object_descr_price'})\n",
    "    price = re.split('<div>|руб|\\W', str(price))\n",
    "    price = \"\".join([i for i in price if i.isdigit()][-3:])\n",
    "    return int(price)"
   ]
  },
  {
   "cell_type": "markdown",
   "metadata": {},
   "source": [
    "# Координаты"
   ]
  },
  {
   "cell_type": "code",
   "execution_count": 20,
   "metadata": {
    "collapsed": true
   },
   "outputs": [],
   "source": [
    "def getCoords(flat_page):\n",
    "    coords = flat_page.find('div', attrs={'class':'map_info_button_extend'}).contents[1]\n",
    "    coords = re.split('&amp|center=|%2C', str(coords))\n",
    "    coords_list = []\n",
    "    for item in coords:\n",
    "        if item[0].isdigit():\n",
    "            coords_list.append(item)\n",
    "    lat = float(coords_list[0])\n",
    "    lon = float(coords_list[1])\n",
    "    return lat, lon"
   ]
  },
  {
   "cell_type": "markdown",
   "metadata": {},
   "source": [
    "# Число комнат"
   ]
  },
  {
   "cell_type": "code",
   "execution_count": 21,
   "metadata": {
    "collapsed": true
   },
   "outputs": [],
   "source": [
    "def getRooms(flat_page):\n",
    "    rooms = flat_page.find('div', attrs={'class':'object_descr_title'})\n",
    "    rooms = html_stripper(rooms)\n",
    "    room_number = ''\n",
    "    for i in re.split('-|\\n', rooms):\n",
    "        if 'комн' in i:\n",
    "            break\n",
    "        else:\n",
    "            room_number += i\n",
    "    room_number = \"\".join(room_number.split())\n",
    "    return room_number"
   ]
  },
  {
   "cell_type": "markdown",
   "metadata": {},
   "source": [
    "## Этаж/всего этажей"
   ]
  },
  {
   "cell_type": "code",
   "execution_count": 22,
   "metadata": {
    "collapsed": true
   },
   "outputs": [],
   "source": [
    "def getFloor_Nfloors(flat_page):\n",
    "    table = flat_page.find('table', attrs = {'class':'object_descr_props'})\n",
    "    table = html_stripper(table)\n",
    "    Nfloors=-1\n",
    "    k=0\n",
    "    for i in re.split('\\n|\\xa0|/| ', re.split('Этаж:|Тип дома', table)[1]):\n",
    "        if i.isdigit(): \n",
    "            if k==0: \n",
    "                floor=i\n",
    "                k=k+1\n",
    "            else:\n",
    "                Nfloors=i\n",
    "                k=k+1\n",
    "        if k==2 : break\n",
    "    if Nfloors==-1: return int(floor), np.NaN #если не указано кол-во этажей всего, то тогда вернём пустое значение\n",
    "    else: return int(floor), int(Nfloors)"
   ]
  },
  {
   "cell_type": "markdown",
   "metadata": {},
   "source": [
    "# Totsp (общая площадь квартиры)\n"
   ]
  },
  {
   "cell_type": "code",
   "execution_count": 23,
   "metadata": {
    "collapsed": false
   },
   "outputs": [],
   "source": [
    "def getTotsp(flat_page):\n",
    "    table = flat_page.find('table', attrs = {'class':'object_descr_props'})\n",
    "    table = html_stripper(table)\n",
    "    r=re.split('Общая площадь:|Площадь комнат', table)[1]\n",
    "    r=r.replace(',','.')\n",
    "    totsp=re.split('\\n|\\xa0| ',r)[-6]\n",
    "    return float(totsp)"
   ]
  },
  {
   "cell_type": "markdown",
   "metadata": {},
   "source": [
    "# Жилая площадь"
   ]
  },
  {
   "cell_type": "code",
   "execution_count": 24,
   "metadata": {
    "collapsed": true
   },
   "outputs": [],
   "source": [
    "def getLivesp(flat_page):\n",
    "    table = flat_page.find('table', attrs = {'class':'object_descr_props'})\n",
    "    table = html_stripper(table)\n",
    "    r=re.split('Жилая площадь:|Площадь кухни', table)[1]\n",
    "    r=r.replace(',','.')\n",
    "    livesp=re.split('\\n|\\xa0| ',r)[-6]\n",
    "    if '–' in re.split('\\n|\\xa0| ',r)  : livesp=np.NaN\n",
    "    return livesp"
   ]
  },
  {
   "cell_type": "markdown",
   "metadata": {},
   "source": [
    "# Площадь кухни"
   ]
  },
  {
   "cell_type": "code",
   "execution_count": 25,
   "metadata": {
    "collapsed": true
   },
   "outputs": [],
   "source": [
    "def getKitsp(flat_page):\n",
    "    table = flat_page.find('table', attrs = {'class':'object_descr_props'})\n",
    "    table = html_stripper(table)\n",
    "    r=re.split('санузлов:|Площадь кухни|Cанузел', table)[1]\n",
    "    r=r.replace(',','.')\n",
    "    kitsp=re.split('\\n|\\xa0| ',r)[2]\n",
    "    if '–' in re.split('\\n|\\xa0| ',r)  : kitsp=np.NaN\n",
    "    return kitsp"
   ]
  },
  {
   "cell_type": "markdown",
   "metadata": {},
   "source": [
    "# Расстояние до метро"
   ]
  },
  {
   "cell_type": "code",
   "execution_count": 26,
   "metadata": {
    "collapsed": false
   },
   "outputs": [],
   "source": [
    "def getMetrdist(flat_page):\n",
    "    place=flat_page.find('div',attrs={'class':'object_descr_metro'})\n",
    "    place=html_stripper(place)\n",
    "    time=-1\n",
    "    for i in re.split('\\n|\\xa0|/| ', place):\n",
    "            if (i.isdigit()) and(i!='1905'): \n",
    "                time=i\n",
    "                break\n",
    "    if time==-1: return np.NaN\n",
    "    else: return time\n"
   ]
  },
  {
   "cell_type": "markdown",
   "metadata": {},
   "source": [
    "# # Walk(время до метро считается пешком или на транспорте)"
   ]
  },
  {
   "cell_type": "code",
   "execution_count": 27,
   "metadata": {
    "collapsed": false
   },
   "outputs": [],
   "source": [
    "def getWalk(flat_page):\n",
    "    place=flat_page.find('div',attrs={'class':'object_descr_metro'})\n",
    "    place=html_stripper(place)\n",
    "    walk=-1\n",
    "    for i in re.split('\\n|\\xa0|/| ', place):\n",
    "        if 'пешком' in i : \n",
    "            walk=1\n",
    "            break\n",
    "        if 'транспорт' in i:\n",
    "            walk=0\n",
    "            break\n",
    "        if 'машин' in i:\n",
    "            walk=0\n",
    "            break\n",
    "    if walk==-1 : return np.NaN # если не сказано ничего насчёт пешком/на машине, то вернём пустое значение\n",
    "    else: return walk"
   ]
  },
  {
   "cell_type": "markdown",
   "metadata": {},
   "source": [
    "# Телефон"
   ]
  },
  {
   "cell_type": "code",
   "execution_count": 28,
   "metadata": {
    "collapsed": false
   },
   "outputs": [],
   "source": [
    "def getTel(flat_page):\n",
    "    table = flat_page.find('table', attrs = {'class':'object_descr_props'})\n",
    "    table = html_stripper(table)\n",
    "    #print(table)\n",
    "    if 'Телефон' in table: \n",
    "        for i in re.split('\\n|\\xa0|/| ', re.split('Телефон:|Вид из окна', table)[1]):\n",
    "            if 'да' in i:\n",
    "                tel=1\n",
    "                break\n",
    "            else: tel=0\n",
    "    else: tel=0 #если про телефон ничего не указано, значит его нет\n",
    "    return tel"
   ]
  },
  {
   "cell_type": "markdown",
   "metadata": {},
   "source": [
    "## Новостройка или вторичка"
   ]
  },
  {
   "cell_type": "code",
   "execution_count": 29,
   "metadata": {
    "collapsed": false
   },
   "outputs": [],
   "source": [
    "def getNew(flat_page):\n",
    "    table=flat_page.find('table', attrs = {'class':'object_descr_props'})\n",
    "    table=html_stripper(table)\n",
    "    new=-1\n",
    "    if 'вторич' in table: new=0\n",
    "    if 'новостро' in table: new=1\n",
    "    if new==-1: return np.NaN #если про этот признак ничего не указано, то вернём пустое значение\n",
    "    else: return new\n"
   ]
  },
  {
   "cell_type": "markdown",
   "metadata": {},
   "source": [
    "# Тип дома(монолит, кирпичный, жб и другие)"
   ]
  },
  {
   "cell_type": "code",
   "execution_count": 30,
   "metadata": {
    "collapsed": true
   },
   "outputs": [],
   "source": [
    "def getBrick(flat_page):\n",
    "    table=flat_page.find('table', attrs = {'class':'object_descr_props'})\n",
    "    table=html_stripper(table)\n",
    "    brick=0\n",
    "    if 'кирпич' in table: brick=1\n",
    "    if 'монолит' in table: brick=1\n",
    "    if  'жб' in table: brick=1\n",
    "    return brick"
   ]
  },
  {
   "cell_type": "markdown",
   "metadata": {},
   "source": [
    "# Балкон/лоджия"
   ]
  },
  {
   "cell_type": "code",
   "execution_count": 31,
   "metadata": {
    "collapsed": true
   },
   "outputs": [],
   "source": [
    "def getBal(flat_page):\n",
    "    table=flat_page.find('table', attrs = {'class':'object_descr_props'})\n",
    "    table=html_stripper(table)\n",
    "    bal=0\n",
    "    if 'балк.' in table: bal=1\n",
    "    if 'лодж.' in table: bal=1\n",
    "    return bal"
   ]
  },
  {
   "cell_type": "markdown",
   "metadata": {},
   "source": [
    "# Расстояние до центра"
   ]
  },
  {
   "cell_type": "code",
   "execution_count": 32,
   "metadata": {
    "collapsed": false
   },
   "outputs": [],
   "source": [
    "def getDist(flat_page):\n",
    "    exactlylat=55.755826\n",
    "    exactlylon=37.6173\n",
    "    dist=np.sqrt((111.3*np.cos(getCoords(flat_page)[0])*(getCoords(flat_page)[1]-exactlylon))**2+(111.0*np.cos(exactlylon)*(getCoords(flat_page)[0]-exactlylat))**2)\n",
    "    return dist"
   ]
  },
  {
   "cell_type": "markdown",
   "metadata": {},
   "source": [
    "## Собираем всё вместе"
   ]
  },
  {
   "cell_type": "code",
   "execution_count": 33,
   "metadata": {
    "collapsed": true
   },
   "outputs": [],
   "source": [
    "flat=pd.DataFrame(columns=['District','N','Rooms','Price','Totsp','Livesp','Kitsp','Dist','Metrdist','Walk','Brick','Tel','Bal','Floor','Nfloors','New'])"
   ]
  },
  {
   "cell_type": "code",
   "execution_count": 34,
   "metadata": {
    "collapsed": false
   },
   "outputs": [],
   "source": [
    "def District(district,k,flat):\n",
    "    links = []\n",
    "    for page in range(1, 30):\n",
    "        page_url =  district.format(page)\n",
    "\n",
    "        search_page = requests.get(page_url)\n",
    "        search_page = search_page.content\n",
    "        search_page = BeautifulSoup(search_page, 'lxml')\n",
    "\n",
    "        flat_urls = search_page.findAll('div', attrs = {'ng-class':\"{'serp-item_removed': offer.remove.state, 'serp-item_popup-opened': isPopupOpen}\"})\n",
    "        flat_urls = re.split('http://www.cian.ru/sale/flat/|/\" ng-class=\"', str(flat_urls))\n",
    "\n",
    "        for link in flat_urls:\n",
    "            if link.isdigit():\n",
    "                links.append(link)\n",
    "    count = 0\n",
    "    #total_flat=3\n",
    "    for i in range(len(links)):\n",
    "        flat_url = 'http://www.cian.ru/sale/flat/' + str(links[i]) + '/'\n",
    "        #flat_url = 'http://www.cian.ru/sale/flat/150531912/' \n",
    "        flat_page = requests.get(flat_url)\n",
    "        flat_page = flat_page.content\n",
    "        flat_page = BeautifulSoup(flat_page, 'lxml')    \n",
    "\n",
    "        to_append = {'District':k,'N':k*812+i+1, 'Rooms':getRooms(flat_page), 'Price':getPrice(flat_page), 'Totsp':getTotsp(flat_page), 'Livesp':getLivesp(flat_page),\n",
    "                     'Kitsp':getKitsp(flat_page), 'Dist':getDist(flat_page),'Metrdist':getMetrdist(flat_page), 'Walk':getWalk(flat_page),\n",
    "                     'Brick':getBrick(flat_page), 'Tel':getTel(flat_page), 'Bal':getBal(flat_page),'Floor':getFloor_Nfloors(flat_page)[0],\n",
    "                     'Nfloors':getFloor_Nfloors(flat_page)[1], 'New':getNew(flat_page)}\n",
    "        flat = flat.append(to_append, ignore_index=True)\n",
    "        count +=1 \n",
    "        #if i%100==0: print('I`m not dead, I`m working! The page is {}'.format(i+1))\n",
    "    return flat"
   ]
  },
  {
   "cell_type": "markdown",
   "metadata": {},
   "source": [
    "## Для каждого района находим главную ссылку и для этого района заносим в таблицу данные про каждую квартиру этого района"
   ]
  },
  {
   "cell_type": "code",
   "execution_count": null,
   "metadata": {
    "collapsed": false
   },
   "outputs": [],
   "source": [
    "#ЦАО\n",
    "district = 'http://www.cian.ru/cat.php?deal_type=sale&district%5B0%5D=13&district%5B1%5D=14&district%5B2%5D=15&district%5B3%5D=16&district%5B4%5D=17&district%5B5%5D=18&district%5B6%5D=19&district%5B7%5D=20&district%5B8%5D=21&district%5B9%5D=22&engine_version=2&offer_type=flat&p={}&room1=1&room2=1&room3=1&room4=1&room5=1&room6=1'\n",
    "flat=District(district,0,flat)\n",
    "#САО\n",
    "district='http://www.cian.ru/cat.php?deal_type=sale&district%5B0%5D=23&district%5B10%5D=33&district%5B11%5D=34&district%5B12%5D=35&district%5B13%5D=36&district%5B14%5D=37&district%5B15%5D=38&district%5B1%5D=24&district%5B2%5D=25&district%5B3%5D=26&district%5B4%5D=27&district%5B5%5D=28&district%5B6%5D=29&district%5B7%5D=30&district%5B8%5D=31&district%5B9%5D=32&engine_version=2&offer_type=flat&p={}&room1=1&room2=1&room3=1&room4=1&room5=1&room6=1'\n",
    "flat=District(district,1,flat)\n",
    "#CВАО\n",
    "district='http://www.cian.ru/cat.php?deal_type=sale&district%5B0%5D=39&district%5B10%5D=49&district%5B11%5D=50&district%5B12%5D=51&district%5B13%5D=52&district%5B14%5D=53&district%5B15%5D=54&district%5B16%5D=55&district%5B1%5D=40&district%5B2%5D=41&district%5B3%5D=42&district%5B4%5D=43&district%5B5%5D=44&district%5B6%5D=45&district%5B7%5D=46&district%5B8%5D=47&district%5B9%5D=48&engine_version=2&offer_type=flat&p={}&room1=1&room2=1&room3=1&room4=1&room5=1&room6=1'\n",
    "flat=District(district,2,flat)\n",
    "#ВАО\n",
    "district='http://www.cian.ru/cat.php?deal_type=sale&district%5B0%5D=56&district%5B10%5D=66&district%5B11%5D=67&district%5B12%5D=68&district%5B13%5D=69&district%5B14%5D=70&district%5B15%5D=71&district%5B1%5D=57&district%5B2%5D=58&district%5B3%5D=59&district%5B4%5D=60&district%5B5%5D=61&district%5B6%5D=62&district%5B7%5D=63&district%5B8%5D=64&district%5B9%5D=65&engine_version=2&offer_type=flat&p={}&room1=1&room2=1&room3=1&room4=1&room5=1&room6=1'\n",
    "flat=District(district,3,flat)\n",
    "#ЮВАО\n",
    "district='http://www.cian.ru/cat.php?deal_type=sale&district%5B0%5D=56&district%5B10%5D=66&district%5B11%5D=67&district%5B12%5D=68&district%5B13%5D=69&district%5B14%5D=70&district%5B15%5D=71&district%5B1%5D=57&district%5B2%5D=58&district%5B3%5D=59&district%5B4%5D=60&district%5B5%5D=61&district%5B6%5D=62&district%5B7%5D=63&district%5B8%5D=64&district%5B9%5D=65&engine_version=2&offer_type=flat&p={}&room1=1&room2=1&room3=1&room4=1&room5=1&room6=1'\n",
    "flat=District(district,4,flat)\n",
    "#ЮАО\n",
    "district='http://www.cian.ru/cat.php?deal_type=sale&district%5B0%5D=84&district%5B10%5D=94&district%5B11%5D=95&district%5B12%5D=96&district%5B13%5D=97&district%5B14%5D=98&district%5B15%5D=99&district%5B1%5D=85&district%5B2%5D=86&district%5B3%5D=87&district%5B4%5D=88&district%5B5%5D=89&district%5B6%5D=90&district%5B7%5D=91&district%5B8%5D=92&district%5B9%5D=93&engine_version=2&offer_type=flat&p={}&room1=1&room2=1&room3=1&room4=1&room5=1&room6=1'\n",
    "flat=District(district,5,flat)\n",
    "#ЮЗАО\n",
    "district='http://www.cian.ru/cat.php?deal_type=sale&district%5B0%5D=100&district%5B10%5D=110&district%5B11%5D=111&district%5B1%5D=101&district%5B2%5D=102&district%5B3%5D=103&district%5B4%5D=104&district%5B5%5D=105&district%5B6%5D=106&district%5B7%5D=107&district%5B8%5D=108&district%5B9%5D=109&engine_version=2&offer_type=flat&p={}&room1=1&room2=1&room3=1&room4=1&room5=1&room6=1'\n",
    "flat=District(district,6,flat)\n",
    "#ЗАО\n",
    "district='http://www.cian.ru/cat.php?deal_type=sale&district%5B0%5D=112&district%5B10%5D=122&district%5B11%5D=123&district%5B12%5D=124&district%5B13%5D=348&district%5B14%5D=349&district%5B15%5D=350&district%5B1%5D=113&district%5B2%5D=114&district%5B3%5D=115&district%5B4%5D=116&district%5B5%5D=117&district%5B6%5D=118&district%5B7%5D=119&district%5B8%5D=120&district%5B9%5D=121&engine_version=2&offer_type=flat&p={}&room1=1&room2=1&room3=1&room4=1&room5=1&room6=1'\n",
    "flat=District(district,7,flat)\n",
    "#СЗАО\n",
    "district='http://www.cian.ru/cat.php?deal_type=sale&district%5B0%5D=125&district%5B1%5D=126&district%5B2%5D=127&district%5B3%5D=128&district%5B4%5D=129&district%5B5%5D=130&district%5B6%5D=131&district%5B7%5D=132&engine_version=2&offer_type=flat&p={}&room1=1&room2=1&room3=1&room4=1&room5=1&room6=1'\n",
    "flat=District(district,8,flat)\n"
   ]
  },
  {
   "cell_type": "markdown",
   "metadata": {},
   "source": [
    "## Записываем в csv файл"
   ]
  },
  {
   "cell_type": "code",
   "execution_count": 22,
   "metadata": {
    "collapsed": false
   },
   "outputs": [],
   "source": [
    "\n",
    "import csv\n",
    "with open('Flats.csv', 'w',newline='') as csvfile:\n",
    "    fieldnames = ['District','N','Rooms','Price','Totsp','Livesp','Kitsp','Dist','Metrdist','Walk','Brick','Tel','Bal','Floor','Nfloors',\n",
    "                  'New']\n",
    "\n",
    "    writer = csv.DictWriter(csvfile, fieldnames=fieldnames)\n",
    "    n=flat.shape[0]\n",
    "    writer.writeheader()\n",
    "    for i in range(n):\n",
    "        writer.writerow({'District':flat['District'][i],\n",
    "                         'N':flat['N'][i],\n",
    "                         'Rooms':flat['Rooms'][i],\n",
    "                         'Price':flat['Price'][i],\n",
    "                         'Totsp':flat['Totsp'][i],\n",
    "                         'Livesp':flat['Livesp'][i],\n",
    "                         'Kitsp':flat['Kitsp'][i],\n",
    "                         'Dist':flat['Dist'][i],\n",
    "                         'Metrdist':flat['Metrdist'][i],\n",
    "                         'Walk':flat['Walk'][i],\n",
    "                         'Brick':flat['Brick'][i],\n",
    "                         'Tel':flat['Tel'][i],\n",
    "                         'Bal':flat['Bal'][i],\n",
    "                         'Floor':flat['Floor'][i],\n",
    "                         'Nfloors':flat['Nfloors'][i],\n",
    "                         'New':flat['New'][i],\n",
    "                         })"
   ]
  }
 ],
 "metadata": {
  "anaconda-cloud": {},
  "kernelspec": {
   "display_name": "Python 3",
   "language": "python",
   "name": "python3"
  },
  "language_info": {
   "codemirror_mode": {
    "name": "ipython",
    "version": 3
   },
   "file_extension": ".py",
   "mimetype": "text/x-python",
   "name": "python",
   "nbconvert_exporter": "python",
   "pygments_lexer": "ipython3",
   "version": "3.5.2"
  }
 },
 "nbformat": 4,
 "nbformat_minor": 0
}
